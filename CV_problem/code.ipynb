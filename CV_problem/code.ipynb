{
 "cells": [
  {
   "cell_type": "code",
   "execution_count": 1,
   "metadata": {},
   "outputs": [
    {
     "name": "stderr",
     "output_type": "stream",
     "text": [
      "Using TensorFlow backend.\n"
     ]
    }
   ],
   "source": [
    "import pickle\n",
    "import numpy as np\n",
    "import sys\n",
    "from sklearn import svm\n",
    "from sklearn.model_selection import train_test_split\n",
    "import pandas as pd\n",
    "import matplotlib.pyplot as plt\n",
    "\n",
    "# import the necessary packages\n",
    "from keras import backend as Tensorflow\n",
    "from keras.layers import Layer\n",
    "from keras.models import Sequential\n",
    "from keras.layers.normalization import BatchNormalization\n",
    "from keras.layers.convolutional import Conv2D\n",
    "from keras.layers.convolutional import MaxPooling2D\n",
    "from keras.layers.core import Activation\n",
    "from keras.layers.core import Flatten\n",
    "from keras.layers.core import Dropout\n",
    "from keras.layers.core import Dense\n",
    "import keras\n",
    "\n",
    "\n",
    "np.set_printoptions(threshold=sys.maxsize)\n"
   ]
  },
  {
   "cell_type": "code",
   "execution_count": 2,
   "metadata": {},
   "outputs": [],
   "source": [
    "pickle_in = open(\"train_image.pkl\",\"rb\")\n",
    "Train_data = pickle.load(pickle_in)\n",
    "X_train = np.array(Train_data)"
   ]
  },
  {
   "cell_type": "code",
   "execution_count": 3,
   "metadata": {},
   "outputs": [],
   "source": [
    "pickle_in = open(\"train_label.pkl\",\"rb\")\n",
    "Train_labels = pickle.load(pickle_in)\n",
    "Y_train = np.array(Train_labels)"
   ]
  },
  {
   "cell_type": "code",
   "execution_count": 4,
   "metadata": {},
   "outputs": [],
   "source": [
    "pickle_in = open(\"test_image.pkl\",\"rb\")\n",
    "Test_data = pickle.load(pickle_in)\n",
    "X_test = np.array(Test_data)"
   ]
  },
  {
   "cell_type": "code",
   "execution_count": 5,
   "metadata": {},
   "outputs": [],
   "source": [
    "X_train = X_train.astype('float32') / 255\n",
    "X_test = X_test.astype('float32') / 255\n",
    "\n",
    "X_train, X_val, Y_train, Y_val = train_test_split(X_train, Y_train, test_size=0.2, random_state=1)\n"
   ]
  },
  {
   "cell_type": "code",
   "execution_count": 6,
   "metadata": {},
   "outputs": [],
   "source": [
    "#clf = RandomForestClassifier(n_estimators=200, max_depth=25,random_state=0)\n",
    "\n"
   ]
  },
  {
   "cell_type": "code",
   "execution_count": 7,
   "metadata": {},
   "outputs": [],
   "source": [
    "# Convert to \"one-hot\" vectors using the to_categorical function\n",
    "\n",
    "num_classes = 4\n",
    "\n",
    "mapping ={'0': 0, '2': 1, '3': 2, '6': 3, }\n",
    "\n",
    "\n",
    "y_train=[]\n",
    "\n",
    "for i in range(Y_train.shape[0]):\n",
    "    y_train.append(mapping[str(Y_train[i])])\n",
    "\n",
    "y_val = []  \n",
    "\n",
    "for i in range(Y_val.shape[0]):\n",
    "    y_val.append(mapping[str(Y_val[i])])\n",
    "    \n",
    "# print (y_train)\n",
    "\n",
    "y_train = keras.utils.to_categorical(y_train, num_classes,dtype='float32')\n",
    "y_val = keras.utils.to_categorical(y_val, num_classes,dtype='float32')\n",
    "\n"
   ]
  },
  {
   "cell_type": "code",
   "execution_count": 8,
   "metadata": {},
   "outputs": [],
   "source": [
    "image_size = 784 # 28*28\n",
    "num_classes = 4 # 4 unique classes"
   ]
  },
  {
   "cell_type": "code",
   "execution_count": 24,
   "metadata": {},
   "outputs": [
    {
     "name": "stdout",
     "output_type": "stream",
     "text": [
      "_________________________________________________________________\n",
      "Layer (type)                 Output Shape              Param #   \n",
      "=================================================================\n",
      "conv2d_7 (Conv2D)            (None, 28, 28, 64)        320       \n",
      "_________________________________________________________________\n",
      "max_pooling2d_7 (MaxPooling2 (None, 14, 14, 64)        0         \n",
      "_________________________________________________________________\n",
      "dropout_10 (Dropout)         (None, 14, 14, 64)        0         \n",
      "_________________________________________________________________\n",
      "conv2d_8 (Conv2D)            (None, 14, 14, 32)        8224      \n",
      "_________________________________________________________________\n",
      "max_pooling2d_8 (MaxPooling2 (None, 7, 7, 32)          0         \n",
      "_________________________________________________________________\n",
      "dropout_11 (Dropout)         (None, 7, 7, 32)          0         \n",
      "_________________________________________________________________\n",
      "flatten_4 (Flatten)          (None, 1568)              0         \n",
      "_________________________________________________________________\n",
      "dense_7 (Dense)              (None, 256)               401664    \n",
      "_________________________________________________________________\n",
      "dropout_12 (Dropout)         (None, 256)               0         \n",
      "_________________________________________________________________\n",
      "dense_8 (Dense)              (None, 4)                 1028      \n",
      "=================================================================\n",
      "Total params: 411,236\n",
      "Trainable params: 411,236\n",
      "Non-trainable params: 0\n",
      "_________________________________________________________________\n"
     ]
    }
   ],
   "source": [
    "model = Sequential()\n",
    "model.add(Conv2D(filters=64, kernel_size=2, padding='same', activation='relu', input_shape=(28,28,1))) \n",
    "model.add(MaxPooling2D(pool_size=2))\n",
    "model.add(Dropout(0.3))\n",
    "model.add(Conv2D(filters=32, kernel_size=2, padding='same', activation='relu'))\n",
    "model.add(MaxPooling2D(pool_size=2))\n",
    "model.add(Dropout(0.3))\n",
    "model.add(Flatten())\n",
    "model.add(Dense(256, activation='relu'))\n",
    "model.add(Dropout(0.5))\n",
    "model.add(Dense(4, activation='softmax'))\n",
    "# Take a look at the model summary\n",
    "model.summary()"
   ]
  },
  {
   "cell_type": "code",
   "execution_count": 25,
   "metadata": {},
   "outputs": [],
   "source": [
    "model.compile(loss='categorical_crossentropy',\n",
    "             optimizer='adam',\n",
    "             metrics=['accuracy'])"
   ]
  },
  {
   "cell_type": "code",
   "execution_count": 26,
   "metadata": {},
   "outputs": [],
   "source": [
    "X_train = X_train.reshape((X_train.shape[0],28,28,1))\n",
    "X_val = X_val.reshape((X_val.shape[0], 28,28,1))\n"
   ]
  },
  {
   "cell_type": "code",
   "execution_count": 27,
   "metadata": {},
   "outputs": [
    {
     "name": "stdout",
     "output_type": "stream",
     "text": [
      "Train on 6400 samples, validate on 1600 samples\n",
      "Epoch 1/30\n",
      "6400/6400 [==============================] - 7s 1ms/step - loss: 0.7568 - acc: 0.6803 - val_loss: 0.6162 - val_acc: 0.7344\n",
      "Epoch 2/30\n",
      "6400/6400 [==============================] - 7s 1ms/step - loss: 0.5885 - acc: 0.7597 - val_loss: 0.5523 - val_acc: 0.7706\n",
      "Epoch 3/30\n",
      "6400/6400 [==============================] - 7s 1ms/step - loss: 0.5429 - acc: 0.7850 - val_loss: 0.4783 - val_acc: 0.8169\n",
      "Epoch 4/30\n",
      "6400/6400 [==============================] - 7s 1ms/step - loss: 0.4859 - acc: 0.8089 - val_loss: 0.4488 - val_acc: 0.8375\n",
      "Epoch 5/30\n",
      "6400/6400 [==============================] - 7s 1ms/step - loss: 0.4560 - acc: 0.8181 - val_loss: 0.4197 - val_acc: 0.8406\n",
      "Epoch 6/30\n",
      "6400/6400 [==============================] - 7s 1ms/step - loss: 0.4446 - acc: 0.8259 - val_loss: 0.4049 - val_acc: 0.8488\n",
      "Epoch 7/30\n",
      "6400/6400 [==============================] - 7s 1ms/step - loss: 0.4198 - acc: 0.8344 - val_loss: 0.4055 - val_acc: 0.8400\n",
      "Epoch 8/30\n",
      "6400/6400 [==============================] - 7s 1ms/step - loss: 0.3997 - acc: 0.8441 - val_loss: 0.4038 - val_acc: 0.8438\n",
      "Epoch 9/30\n",
      "6400/6400 [==============================] - 7s 1ms/step - loss: 0.3875 - acc: 0.8481 - val_loss: 0.3846 - val_acc: 0.8519\n",
      "Epoch 10/30\n",
      "6400/6400 [==============================] - 7s 1ms/step - loss: 0.3581 - acc: 0.8628 - val_loss: 0.3736 - val_acc: 0.8569\n",
      "Epoch 11/30\n",
      "6400/6400 [==============================] - 7s 1ms/step - loss: 0.3659 - acc: 0.8567 - val_loss: 0.3636 - val_acc: 0.8606\n",
      "Epoch 12/30\n",
      "6400/6400 [==============================] - 7s 1ms/step - loss: 0.3496 - acc: 0.8606 - val_loss: 0.3671 - val_acc: 0.8544\n",
      "Epoch 13/30\n",
      "6400/6400 [==============================] - 7s 1ms/step - loss: 0.3347 - acc: 0.8702 - val_loss: 0.3623 - val_acc: 0.8600\n",
      "Epoch 14/30\n",
      "6400/6400 [==============================] - 7s 1ms/step - loss: 0.3231 - acc: 0.8780 - val_loss: 0.3601 - val_acc: 0.8575\n",
      "Epoch 15/30\n",
      "6400/6400 [==============================] - 7s 1ms/step - loss: 0.3235 - acc: 0.8747 - val_loss: 0.3467 - val_acc: 0.8694\n",
      "Epoch 16/30\n",
      "6400/6400 [==============================] - 7s 1ms/step - loss: 0.3059 - acc: 0.8773 - val_loss: 0.3576 - val_acc: 0.8569\n",
      "Epoch 17/30\n",
      "6400/6400 [==============================] - 7s 1ms/step - loss: 0.3011 - acc: 0.8837 - val_loss: 0.3575 - val_acc: 0.8619\n",
      "Epoch 18/30\n",
      "6400/6400 [==============================] - 7s 1ms/step - loss: 0.2956 - acc: 0.8878 - val_loss: 0.3501 - val_acc: 0.8681\n",
      "Epoch 19/30\n",
      "6400/6400 [==============================] - 7s 1ms/step - loss: 0.2809 - acc: 0.8902 - val_loss: 0.3510 - val_acc: 0.8681\n",
      "Epoch 20/30\n",
      "6400/6400 [==============================] - 7s 1ms/step - loss: 0.2789 - acc: 0.8873 - val_loss: 0.3650 - val_acc: 0.8675\n",
      "Epoch 21/30\n",
      "6400/6400 [==============================] - 7s 1ms/step - loss: 0.2681 - acc: 0.8938 - val_loss: 0.3681 - val_acc: 0.8581\n",
      "Epoch 22/30\n",
      "6400/6400 [==============================] - 7s 1ms/step - loss: 0.2651 - acc: 0.8981 - val_loss: 0.3686 - val_acc: 0.8675\n",
      "Epoch 23/30\n",
      "6400/6400 [==============================] - 7s 1ms/step - loss: 0.2529 - acc: 0.9016 - val_loss: 0.3536 - val_acc: 0.8725\n",
      "Epoch 24/30\n",
      "6400/6400 [==============================] - 7s 1ms/step - loss: 0.2569 - acc: 0.8997 - val_loss: 0.3589 - val_acc: 0.8719\n",
      "Epoch 25/30\n",
      "6400/6400 [==============================] - 7s 1ms/step - loss: 0.2464 - acc: 0.9038 - val_loss: 0.3488 - val_acc: 0.8694\n",
      "Epoch 26/30\n",
      "6400/6400 [==============================] - 7s 1ms/step - loss: 0.2356 - acc: 0.9069 - val_loss: 0.3737 - val_acc: 0.8631\n",
      "Epoch 27/30\n",
      "6400/6400 [==============================] - 7s 1ms/step - loss: 0.2333 - acc: 0.9095 - val_loss: 0.3617 - val_acc: 0.8725\n",
      "Epoch 28/30\n",
      "6400/6400 [==============================] - 7s 1ms/step - loss: 0.2293 - acc: 0.9113 - val_loss: 0.3726 - val_acc: 0.8662\n",
      "Epoch 29/30\n",
      "6400/6400 [==============================] - 7s 1ms/step - loss: 0.2237 - acc: 0.9141 - val_loss: 0.3603 - val_acc: 0.8650\n",
      "Epoch 30/30\n",
      "6400/6400 [==============================] - 7s 1ms/step - loss: 0.2216 - acc: 0.9098 - val_loss: 0.3756 - val_acc: 0.8638\n"
     ]
    }
   ],
   "source": [
    "history=model.fit(X_train,\n",
    "         y_train,\n",
    "         batch_size=32,\n",
    "         epochs=30,\n",
    "         validation_data=(X_val, y_val))"
   ]
  },
  {
   "cell_type": "code",
   "execution_count": 28,
   "metadata": {},
   "outputs": [
    {
     "data": {
      "image/png": "[encoded data removed]",
      "text/plain": [
       "<Figure size 432x288 with 1 Axes>"
      ]
     },
     "metadata": {
      "needs_background": "light"
     },
     "output_type": "display_data"
    },
    {
     "data": {
      "image/png": "[encoded data removed]",
      "text/plain": [
       "<Figure size 432x288 with 1 Axes>"
      ]
     },
     "metadata": {
      "needs_background": "light"
     },
     "output_type": "display_data"
    }
   ],
   "source": [
    "plt.plot(history.history['acc'])\n",
    "plt.plot(history.history['val_acc'])\n",
    "plt.title('model accuracy')\n",
    "plt.ylabel('accuracy')\n",
    "plt.xlabel('epoch')\n",
    "plt.legend(['train', 'validation'], loc='upper left')\n",
    "plt.show()\n",
    "# summarize history for loss\n",
    "plt.plot(history.history['loss'])\n",
    "plt.plot(history.history['val_loss'])\n",
    "plt.title('model loss')\n",
    "plt.ylabel('loss')\n",
    "plt.xlabel('epoch')\n",
    "plt.legend(['train', 'test'], loc='upper left')\n",
    "plt.show()"
   ]
  },
  {
   "cell_type": "code",
   "execution_count": null,
   "metadata": {},
   "outputs": [],
   "source": []
  }
 ],
 "metadata": {
  "kernelspec": {
   "display_name": "Python 3",
   "language": "python",
   "name": "python3"
  },
  "language_info": {
   "codemirror_mode": {
    "name": "ipython",
    "version": 3
   },
   "file_extension": ".py",
   "mimetype": "text/x-python",
   "name": "python",
   "nbconvert_exporter": "python",
   "pygments_lexer": "ipython3",
   "version": "3.7.2"
  }
 },
 "nbformat": 4,
 "nbformat_minor": 2
}
