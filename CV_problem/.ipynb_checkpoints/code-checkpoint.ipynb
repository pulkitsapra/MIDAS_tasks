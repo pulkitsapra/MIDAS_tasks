{
 "cells": [
  {
   "cell_type": "markdown",
   "metadata": {},
   "source": [
    "**Import some of the standard modules from keras, numpy and sklearn**"
   ]
  },
  {
   "cell_type": "code",
   "execution_count": 11,
   "metadata": {},
   "outputs": [],
   "source": [
    "import pickle\n",
    "import numpy as np\n",
    "import sys\n",
    "from sklearn import svm\n",
    "from sklearn.model_selection import train_test_split\n",
    "import pandas as pd\n",
    "import matplotlib.pyplot as plt\n",
    "import time\n",
    "from sklearn.neighbors import KNeighborsClassifier\n",
    "from sklearn.metrics import accuracy_score\n",
    "from sklearn.ensemble import RandomForestClassifier\n",
    "from sklearn.naive_bayes import GaussianNB\n",
    "from sklearn.discriminant_analysis import QuadraticDiscriminantAnalysis\n",
    "\n",
    "\n",
    "np.set_printoptions(threshold=sys.maxsize)"
   ]
  },
  {
   "cell_type": "markdown",
   "metadata": {},
   "source": [
    "*Get Training Data*"
   ]
  },
  {
   "cell_type": "code",
   "execution_count": 2,
   "metadata": {},
   "outputs": [],
   "source": [
    "pickle_in = open(\"train_image.pkl\",\"rb\")\n",
    "Train_data = pickle.load(pickle_in)\n",
    "X_train = np.array(Train_data)"
   ]
  },
  {
   "cell_type": "markdown",
   "metadata": {},
   "source": [
    "*Get Training Labels*"
   ]
  },
  {
   "cell_type": "code",
   "execution_count": 3,
   "metadata": {},
   "outputs": [],
   "source": [
    "pickle_in = open(\"train_label.pkl\",\"rb\")\n",
    "Train_labels = pickle.load(pickle_in)\n",
    "Y_train = np.array(Train_labels)"
   ]
  },
  {
   "cell_type": "markdown",
   "metadata": {},
   "source": [
    "*Get Test Data*"
   ]
  },
  {
   "cell_type": "code",
   "execution_count": 4,
   "metadata": {},
   "outputs": [],
   "source": [
    "pickle_in = open(\"test_image.pkl\",\"rb\")\n",
    "Test_data = pickle.load(pickle_in)\n",
    "X_test = np.array(Test_data)\n",
    "\n"
   ]
  },
  {
   "cell_type": "markdown",
   "metadata": {},
   "source": [
    "**Try out some common Data augmentation methods**<br>\n",
    "1. Make mirror images (flip left-right) of the provided dataset\n",
    "2. Make Water images (flip upside -down) of the provided dataset\n",
    "\n",
    "*The intution behind these augmentations*\n",
    "1. In order to prevent the offerfitting for some images which have a side view.\n",
    "2. In order to learn the difference between dresses and tops, (dresses are normally tapering upwards)."
   ]
  },
  {
   "cell_type": "code",
   "execution_count": 5,
   "metadata": {},
   "outputs": [],
   "source": [
    "\n",
    "\n",
    "y=[]\n",
    "x=[]\n",
    "\n",
    "for i in  range(X_train.shape[0]):\n",
    "    x.append(X_train[i])\n",
    "    y.append(Y_train[i])\n",
    "    \n",
    "    mirror= np.fliplr(X_train[i].reshape(28,28))\n",
    "    water=np.flipud(X_train[i].reshape(28,28))\n",
    "    \n",
    "    x.append(mirror.flatten())\n",
    "    y.append(Y_train[i])\n",
    "    \n",
    "    x.append(water.flatten())\n",
    "    y.append(Y_train[i])\n",
    "\n",
    "    \n",
    "X_train=np.array(x)\n",
    "Y_train=np.array(y)\n",
    "\n",
    "\n"
   ]
  },
  {
   "cell_type": "markdown",
   "metadata": {},
   "source": [
    "1. Normalize test data and train data.\n",
    "2. Split data into train,test and validation"
   ]
  },
  {
   "cell_type": "code",
   "execution_count": 6,
   "metadata": {},
   "outputs": [],
   "source": [
    "\n",
    "X_train, X_val, Y_train, Y_val = train_test_split(X_train, Y_train, test_size=0.2, random_state=1)\n"
   ]
  },
  {
   "cell_type": "code",
   "execution_count": 7,
   "metadata": {},
   "outputs": [
    {
     "name": "stdout",
     "output_type": "stream",
     "text": [
      "0.8285416666666666\n"
     ]
    }
   ],
   "source": [
    "clf = RandomForestClassifier(n_estimators=100, max_depth=10,random_state=0)\n",
    "clf.fit(X_train, Y_train)\n",
    "y_pred=clf.predict(X_val)\n",
    "print (accuracy_score(Y_val, y_pred))\n"
   ]
  },
  {
   "cell_type": "code",
   "execution_count": 8,
   "metadata": {},
   "outputs": [],
   "source": [
    "# neigh = KNeighborsClassifier(n_neighbors=3)\n",
    "# neigh.fit(X_train, Y_train) \n",
    "# y_pred=neigh.predict(X_val)\n",
    "# print (accuracy_score(Y_val, y_pred))"
   ]
  },
  {
   "cell_type": "code",
   "execution_count": 9,
   "metadata": {},
   "outputs": [
    {
     "name": "stdout",
     "output_type": "stream",
     "text": [
      "0.628125\n"
     ]
    }
   ],
   "source": [
    "clf = GaussianNB()\n",
    "clf.fit(X_train, Y_train)\n",
    "y_pred=clf.predict(X_val)\n",
    "print (accuracy_score(Y_val, y_pred))"
   ]
  },
  {
   "cell_type": "code",
   "execution_count": 13,
   "metadata": {},
   "outputs": [],
   "source": [
    "# clf = QuadraticDiscriminantAnalysis()\n",
    "# clf.fit(X_train, Y_train)\n",
    "# y_pred=clf.predict(X_val)\n",
    "# print (accuracy_score(Y_val, y_pred))"
   ]
  },
  {
   "cell_type": "code",
   "execution_count": null,
   "metadata": {},
   "outputs": [],
   "source": []
  }
 ],
 "metadata": {
  "kernelspec": {
   "display_name": "Python 3",
   "language": "python",
   "name": "python3"
  },
  "language_info": {
   "codemirror_mode": {
    "name": "ipython",
    "version": 3
   },
   "file_extension": ".py",
   "mimetype": "text/x-python",
   "name": "python",
   "nbconvert_exporter": "python",
   "pygments_lexer": "ipython3",
   "version": "3.7.2"
  }
 },
 "nbformat": 4,
 "nbformat_minor": 2
}
