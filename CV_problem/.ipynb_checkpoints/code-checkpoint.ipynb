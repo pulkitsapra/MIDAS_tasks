{
 "cells": [
  {
   "cell_type": "markdown",
   "metadata": {},
   "source": [
    "**Import some of the standard modules from keras, numpy and sklearn**"
   ]
  },
  {
   "cell_type": "code",
   "execution_count": 1,
   "metadata": {},
   "outputs": [
    {
     "name": "stderr",
     "output_type": "stream",
     "text": [
      "Using TensorFlow backend.\n"
     ]
    }
   ],
   "source": [
    "import pickle\n",
    "import numpy as np\n",
    "import sys\n",
    "from sklearn import svm\n",
    "from sklearn.model_selection import train_test_split\n",
    "import pandas as pd\n",
    "import matplotlib.pyplot as plt\n",
    "import cv2\n",
    "# import the necessary packages\n",
    "from keras import backend as Tensorflow\n",
    "from keras.layers import Layer\n",
    "from keras.models import Sequential\n",
    "from keras.layers.normalization import BatchNormalization\n",
    "from keras.layers.convolutional import Conv2D\n",
    "from keras.layers.convolutional import MaxPooling2D\n",
    "from keras.layers.core import Activation\n",
    "from keras.layers.core import Flatten\n",
    "from keras.layers.core import Dropout\n",
    "from keras.layers.core import Dense\n",
    "import keras\n",
    "import scipy\n",
    "\n",
    "np.set_printoptions(threshold=sys.maxsize)\n"
   ]
  },
  {
   "cell_type": "markdown",
   "metadata": {},
   "source": [
    "*Get Training Data*"
   ]
  },
  {
   "cell_type": "code",
   "execution_count": 2,
   "metadata": {},
   "outputs": [],
   "source": [
    "pickle_in = open(\"train_image.pkl\",\"rb\")\n",
    "Train_data = pickle.load(pickle_in)\n",
    "X_train = np.array(Train_data)"
   ]
  },
  {
   "cell_type": "markdown",
   "metadata": {},
   "source": [
    "*Get Training Labels*"
   ]
  },
  {
   "cell_type": "code",
   "execution_count": 3,
   "metadata": {},
   "outputs": [],
   "source": [
    "pickle_in = open(\"train_label.pkl\",\"rb\")\n",
    "Train_labels = pickle.load(pickle_in)\n",
    "Y_train = np.array(Train_labels)"
   ]
  },
  {
   "cell_type": "markdown",
   "metadata": {},
   "source": [
    "*Get Test Data*"
   ]
  },
  {
   "cell_type": "code",
   "execution_count": 4,
   "metadata": {},
   "outputs": [],
   "source": [
    "pickle_in = open(\"test_image.pkl\",\"rb\")\n",
    "Test_data = pickle.load(pickle_in)\n",
    "X_test = np.array(Test_data)\n",
    "\n"
   ]
  },
  {
   "cell_type": "markdown",
   "metadata": {},
   "source": [
    "**Try out some common Data augmentation methods**<br>\n",
    "1. Make mirror images (flip left-right) of the provided dataset\n",
    "2. Make Water images (flip upside -down) of the provided dataset"
   ]
  },
  {
   "cell_type": "code",
   "execution_count": 5,
   "metadata": {},
   "outputs": [
    {
     "data": {
      "image/png": "[encoded data removed]",
      "text/plain": [
       "<Figure size 432x288 with 1 Axes>"
      ]
     },
     "metadata": {
      "needs_background": "light"
     },
     "output_type": "display_data"
    }
   ],
   "source": [
    "\n",
    "\n",
    "y=[]\n",
    "x=[]\n",
    "\n",
    "for i in  range(X_train.shape[0]):\n",
    "    x.append(X_train[i])\n",
    "    y.append(Y_train[i])\n",
    "    \n",
    "    mirror= np.fliplr(X_train[i].reshape(28,28))\n",
    "    water=np.flipud(X_train[i].reshape(28,28))\n",
    "    \n",
    "    x.append(mirror.flatten())\n",
    "    y.append(Y_train[i])\n",
    "    \n",
    "    x.append(water.flatten())\n",
    "    y.append(Y_train[i])\n",
    "\n",
    "    \n",
    "X_train=np.array(x)\n",
    "Y_train=np.array(y)\n",
    "\n",
    "\n",
    "\n"
   ]
  },
  {
   "cell_type": "markdown",
   "metadata": {},
   "source": [
    "1. Normalize test data and train data.\n",
    "2. Split data into train,test and validation"
   ]
  },
  {
   "cell_type": "code",
   "execution_count": 6,
   "metadata": {},
   "outputs": [],
   "source": [
    "X_train = X_train.astype('float32') / 255\n",
    "X_test = X_test.astype('float32') / 255\n",
    "\n",
    "X_train, X_val, Y_train, Y_val = train_test_split(X_train, Y_train, test_size=0.2, random_state=1)\n"
   ]
  },
  {
   "cell_type": "markdown",
   "metadata": {},
   "source": [
    "1. Convert to \"one-hot\" vectors using the to_categorical function\n",
    "2. Define mapping and inverse mapping for classes"
   ]
  },
  {
   "cell_type": "code",
   "execution_count": 7,
   "metadata": {},
   "outputs": [],
   "source": [
    "\n",
    "num_classes = 4\n",
    "\n",
    "mapping ={'0': 0, '2': 1, '3': 2, '6': 3}\n",
    "invmapping = {'0':0,'1':2,'2':3 ,'3':6}\n",
    "\n",
    "\n",
    "y_train=[]\n",
    "\n",
    "for i in range(Y_train.shape[0]):\n",
    "    y_train.append(mapping[str(Y_train[i])])\n",
    "\n",
    "y_val = []  \n",
    "\n",
    "for i in range(Y_val.shape[0]):\n",
    "    y_val.append(mapping[str(Y_val[i])])\n",
    "    \n",
    "# print (y_train)\n",
    "\n",
    "y_train = keras.utils.to_categorical(y_train, num_classes,dtype='float32')\n",
    "y_val = keras.utils.to_categorical(y_val, num_classes,dtype='float32')\n",
    "\n"
   ]
  },
  {
   "cell_type": "markdown",
   "metadata": {},
   "source": [
    "*Print necessary data shapes*"
   ]
  },
  {
   "cell_type": "code",
   "execution_count": 8,
   "metadata": {},
   "outputs": [
    {
     "name": "stdout",
     "output_type": "stream",
     "text": [
      "Training Shape :(19200, 784)\n",
      " Training Labels :(19200, 4)\n",
      " Validation Shape :(4800, 784)\n",
      " Validation Labels : (4800, 4)\n",
      " Test Samples: (2000, 784)\n",
      "\n"
     ]
    }
   ],
   "source": [
    "image_size = 784 # 28*28\n",
    "num_classes = 4 # 4 unique classes\n",
    "dim=28\n",
    "\n",
    "print (\"Training Shape :{}\\n\".format(X_train.shape), \"Training Labels :{}\\n\".format(y_train.shape), \"Validation Shape :{}\\n\".format(X_val.shape),\"Validation Labels : {}\\n\".format(y_val.shape),\"Test Samples: {}\\n\".format(X_test.shape) )"
   ]
  },
  {
   "cell_type": "markdown",
   "metadata": {},
   "source": [
    "* Create Model : Add Some Conv Layers, Maxpools, Dropouts and some dense layers to model *"
   ]
  },
  {
   "cell_type": "code",
   "execution_count": 9,
   "metadata": {
    "scrolled": true
   },
   "outputs": [
    {
     "name": "stdout",
     "output_type": "stream",
     "text": [
      "WARNING:tensorflow:From /usr/local/lib/python3.7/site-packages/tensorflow/python/framework/op_def_library.py:263: colocate_with (from tensorflow.python.framework.ops) is deprecated and will be removed in a future version.\n",
      "Instructions for updating:\n",
      "Colocations handled automatically by placer.\n",
      "WARNING:tensorflow:From /usr/local/lib/python3.7/site-packages/keras/backend/tensorflow_backend.py:3445: calling dropout (from tensorflow.python.ops.nn_ops) with keep_prob is deprecated and will be removed in a future version.\n",
      "Instructions for updating:\n",
      "Please use `rate` instead of `keep_prob`. Rate should be set to `rate = 1 - keep_prob`.\n",
      "_________________________________________________________________\n",
      "Layer (type)                 Output Shape              Param #   \n",
      "=================================================================\n",
      "conv2d_1 (Conv2D)            (None, 28, 28, 64)        640       \n",
      "_________________________________________________________________\n",
      "max_pooling2d_1 (MaxPooling2 (None, 14, 14, 64)        0         \n",
      "_________________________________________________________________\n",
      "dropout_1 (Dropout)          (None, 14, 14, 64)        0         \n",
      "_________________________________________________________________\n",
      "conv2d_2 (Conv2D)            (None, 14, 14, 32)        18464     \n",
      "_________________________________________________________________\n",
      "max_pooling2d_2 (MaxPooling2 (None, 7, 7, 32)          0         \n",
      "_________________________________________________________________\n",
      "dropout_2 (Dropout)          (None, 7, 7, 32)          0         \n",
      "_________________________________________________________________\n",
      "flatten_1 (Flatten)          (None, 1568)              0         \n",
      "_________________________________________________________________\n",
      "dense_1 (Dense)              (None, 256)               401664    \n",
      "_________________________________________________________________\n",
      "dropout_3 (Dropout)          (None, 256)               0         \n",
      "_________________________________________________________________\n",
      "dense_2 (Dense)              (None, 4)                 1028      \n",
      "=================================================================\n",
      "Total params: 421,796\n",
      "Trainable params: 421,796\n",
      "Non-trainable params: 0\n",
      "_________________________________________________________________\n"
     ]
    }
   ],
   "source": [
    "model = Sequential()\n",
    "model.add(Conv2D(filters=64, kernel_size=3, padding='same', activation='relu', input_shape=(28,28,1))) \n",
    "model.add(MaxPooling2D(pool_size=2))\n",
    "\n",
    "\n",
    "model.add(Dropout(0.3))\n",
    "model.add(Conv2D(filters=32, kernel_size=3, padding='same', activation='relu'))\n",
    "model.add(MaxPooling2D(pool_size=2))\n",
    "model.add(Dropout(0.3))\n",
    "model.add(Flatten())\n",
    "model.add(Dense(256, activation='relu'))\n",
    "model.add(Dropout(0.5))\n",
    "model.add(Dense(4, activation='softmax'))\n",
    "# Take a look at the model summary\n",
    "model.summary()"
   ]
  },
  {
   "cell_type": "markdown",
   "metadata": {},
   "source": [
    "* Compile code using adam as optimiser and loss as Categorical_Crossentropy"
   ]
  },
  {
   "cell_type": "code",
   "execution_count": 10,
   "metadata": {},
   "outputs": [],
   "source": [
    "model.compile(loss='categorical_crossentropy',\n",
    "             optimizer='adam',\n",
    "             metrics=['accuracy'])"
   ]
  },
  {
   "cell_type": "markdown",
   "metadata": {},
   "source": [
    "* Reshape validation data to bring it into a valid 28 X 28 image"
   ]
  },
  {
   "cell_type": "code",
   "execution_count": 11,
   "metadata": {},
   "outputs": [],
   "source": [
    "X_train = X_train.reshape((X_train.shape[0],28,28,1))\n",
    "X_val = X_val.reshape((X_val.shape[0], 28,28,1))\n"
   ]
  },
  {
   "cell_type": "markdown",
   "metadata": {},
   "source": [
    "* Fit the model by fixing batch size and epoch"
   ]
  },
  {
   "cell_type": "code",
   "execution_count": 12,
   "metadata": {},
   "outputs": [
    {
     "name": "stdout",
     "output_type": "stream",
     "text": [
      "WARNING:tensorflow:From /usr/local/lib/python3.7/site-packages/tensorflow/python/ops/math_ops.py:3066: to_int32 (from tensorflow.python.ops.math_ops) is deprecated and will be removed in a future version.\n",
      "Instructions for updating:\n",
      "Use tf.cast instead.\n",
      "Train on 19200 samples, validate on 4800 samples\n",
      "Epoch 1/15\n",
      "19200/19200 [==============================] - 28s 1ms/step - loss: 0.7213 - acc: 0.6951 - val_loss: 0.5156 - val_acc: 0.7952\n",
      "Epoch 2/15\n",
      "19200/19200 [==============================] - 26s 1ms/step - loss: 0.5211 - acc: 0.7967 - val_loss: 0.4305 - val_acc: 0.8344\n",
      "Epoch 3/15\n",
      "19200/19200 [==============================] - 27s 1ms/step - loss: 0.4602 - acc: 0.8227 - val_loss: 0.3842 - val_acc: 0.8569\n",
      "Epoch 4/15\n",
      "19200/19200 [==============================] - 27s 1ms/step - loss: 0.4269 - acc: 0.8360 - val_loss: 0.3684 - val_acc: 0.8612\n",
      "Epoch 5/15\n",
      "19200/19200 [==============================] - 27s 1ms/step - loss: 0.4014 - acc: 0.8442 - val_loss: 0.3468 - val_acc: 0.8648\n",
      "Epoch 6/15\n",
      "19200/19200 [==============================] - 28s 1ms/step - loss: 0.3840 - acc: 0.8500 - val_loss: 0.3525 - val_acc: 0.8677\n",
      "Epoch 7/15\n",
      "19200/19200 [==============================] - 27s 1ms/step - loss: 0.3696 - acc: 0.8527 - val_loss: 0.3214 - val_acc: 0.8779\n",
      "Epoch 8/15\n",
      "19200/19200 [==============================] - 27s 1ms/step - loss: 0.3530 - acc: 0.8632 - val_loss: 0.3201 - val_acc: 0.8733\n",
      "Epoch 9/15\n",
      "19200/19200 [==============================] - 29s 1ms/step - loss: 0.3431 - acc: 0.8665 - val_loss: 0.3041 - val_acc: 0.8810\n",
      "Epoch 10/15\n",
      "19200/19200 [==============================] - 30s 2ms/step - loss: 0.3296 - acc: 0.8714 - val_loss: 0.2972 - val_acc: 0.8812\n",
      "Epoch 11/15\n",
      "19200/19200 [==============================] - 28s 1ms/step - loss: 0.3143 - acc: 0.8759 - val_loss: 0.3200 - val_acc: 0.8735\n",
      "Epoch 12/15\n",
      "19200/19200 [==============================] - 27s 1ms/step - loss: 0.3090 - acc: 0.8757 - val_loss: 0.2884 - val_acc: 0.8871\n",
      "Epoch 13/15\n",
      "19200/19200 [==============================] - 27s 1ms/step - loss: 0.2928 - acc: 0.8838 - val_loss: 0.2833 - val_acc: 0.8923\n",
      "Epoch 14/15\n",
      "19200/19200 [==============================] - 27s 1ms/step - loss: 0.2852 - acc: 0.8860 - val_loss: 0.2795 - val_acc: 0.8906\n",
      "Epoch 15/15\n",
      "19200/19200 [==============================] - 27s 1ms/step - loss: 0.2734 - acc: 0.8936 - val_loss: 0.2777 - val_acc: 0.8912\n"
     ]
    }
   ],
   "source": [
    "history=model.fit(X_train,\n",
    "         y_train,\n",
    "         batch_size=64,\n",
    "         epochs=15,\n",
    "         validation_data=(X_val, y_val))"
   ]
  },
  {
   "cell_type": "markdown",
   "metadata": {},
   "source": [
    "* Plot results : validation accuracy vs train accuracy"
   ]
  },
  {
   "cell_type": "code",
   "execution_count": 13,
   "metadata": {},
   "outputs": [
    {
     "data": {
      "image/png": "[encoded data removed]",
      "text/plain": [
       "<Figure size 432x288 with 1 Axes>"
      ]
     },
     "metadata": {
      "needs_background": "light"
     },
     "output_type": "display_data"
    },
    {
     "data": {
      "image/png": "[encoded data removed]",
      "text/plain": [
       "<Figure size 432x288 with 1 Axes>"
      ]
     },
     "metadata": {
      "needs_background": "light"
     },
     "output_type": "display_data"
    }
   ],
   "source": [
    "plt.plot(history.history['acc'])\n",
    "plt.plot(history.history['val_acc'])\n",
    "plt.title('model accuracy')\n",
    "plt.ylabel('accuracy')\n",
    "plt.xlabel('epoch')\n",
    "plt.legend(['train', 'validation'], loc='upper left')\n",
    "plt.show()\n",
    "# summarize history for loss\n",
    "plt.plot(history.history['loss'])\n",
    "plt.plot(history.history['val_loss'])\n",
    "plt.title('model loss')\n",
    "plt.ylabel('loss')\n",
    "plt.xlabel('epoch')\n",
    "plt.legend(['train', 'test'], loc='upper left')\n",
    "plt.show()"
   ]
  },
  {
   "cell_type": "markdown",
   "metadata": {},
   "source": [
    "* Make Prediction *"
   ]
  },
  {
   "cell_type": "code",
   "execution_count": 14,
   "metadata": {},
   "outputs": [],
   "source": [
    "for i in range(X_test.shape[0]):\n",
    "    im = X_test[i]\n",
    "    im2arr = im.reshape(1,28,28,1)\n",
    "    plt.imshow(im.reshape(28,28))\n",
    "    plt.show()\n",
    "    y_pred = model.predict(im2arr)\n",
    "    print(invmapping[str(np.argmax(y_pred))])\n",
    "    print (y_pred)"
   ]
  },
  {
   "cell_type": "code",
   "execution_count": 15,
   "metadata": {},
   "outputs": [],
   "source": []
  },
  {
   "cell_type": "code",
   "execution_count": null,
   "metadata": {},
   "outputs": [],
   "source": []
  }
 ],
 "metadata": {
  "kernelspec": {
   "display_name": "Python 3",
   "language": "python",
   "name": "python3"
  },
  "language_info": {
   "codemirror_mode": {
    "name": "ipython",
    "version": 3
   },
   "file_extension": ".py",
   "mimetype": "text/x-python",
   "name": "python",
   "nbconvert_exporter": "python",
   "pygments_lexer": "ipython3",
   "version": "3.7.2"
  }
 },
 "nbformat": 4,
 "nbformat_minor": 2
}
